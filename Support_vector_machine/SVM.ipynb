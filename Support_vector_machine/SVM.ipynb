{
 "cells": [
  {
   "cell_type": "code",
   "execution_count": 1,
   "metadata": {},
   "outputs": [],
   "source": [
    "import matplotlib.pyplot as plt\n",
    "from matplotlib import style\n",
    "import numpy as np\n",
    "style.use('ggplot')"
   ]
  },
  {
   "cell_type": "code",
   "execution_count": 67,
   "metadata": {},
   "outputs": [],
   "source": [
    "class SVM:\n",
    "    def __init__(self, visual = True):\n",
    "        self.visualization = visual\n",
    "        self.colors = {-1:'r',1:'b'}\n",
    "        if self.visualization:\n",
    "            self.fig = plt.figure()\n",
    "            self.ax = self.fig.add_subplot(1,1,1)\n",
    "    \n",
    "    def fit(self, features):\n",
    "        self.data = features\n",
    "        opt_dict = {}\n",
    "        transforms = [[1,1],[-1,1],[-1,-1],[1,-1]]\n",
    "        all_data = []\n",
    "        for yi in self.data:\n",
    "            for featureset in self.data[yi]:\n",
    "                for feature in featureset:\n",
    "                    all_data.append(feature)\n",
    "        #print('all_data : ',all_data)\n",
    "        self.max_feature_value = max(all_data)\n",
    "        self.min_feature_value = min(all_data)\n",
    "        all_data = None\n",
    "        \n",
    "        step_sizes = [self.max_feature_value*0.1, self.max_feature_value*0.01, self.max_feature_value*0.001]\n",
    "        b_range_multiple = 1\n",
    "        b_multiple = 5\n",
    "        latest_optimum = self.max_feature_value*10\n",
    "        \n",
    "        for step in step_sizes:\n",
    "            w = np.array([latest_optimum,latest_optimum])\n",
    "            #print('w : ',w)\n",
    "            optimized = False\n",
    "#             print('range : ',-1*(self.max_feature_value*b_range_multiple),\n",
    "#                                    self.max_feature_value*b_range_multiple,\n",
    "#                                    step*b_multiple)\n",
    "            while not optimized:\n",
    "                #print('w_under_while : ',w)\n",
    "                for b in np.arange(-1*(self.max_feature_value*b_range_multiple),\n",
    "                                   self.max_feature_value*b_range_multiple,\n",
    "                                   step*b_multiple):\n",
    "                    #print('b : ',b)\n",
    "                    for transformations in transforms:\n",
    "                        w_t = w*transformations\n",
    "                        #print('w_t : ',w_t)\n",
    "                        found_option = True\n",
    "                        for i in self.data:\n",
    "                            for xi in self.data[i]:\n",
    "                                yi = i\n",
    "                                #print('dot :',yi*(np.dot(w_t,xi) + b))\n",
    "                                if not yi*(np.dot(w_t,xi) + b)>=1:\n",
    "                                    found_option = False\n",
    "                        if found_option:\n",
    "                            opt_dict[np.linalg.norm(w_t)] = [w_t,b]\n",
    "                            #print('opt_dict : ',opt_dict)\n",
    "                    \n",
    "                if w[0] < 0:\n",
    "                    optimized = True\n",
    "                    print('Optimized step')\n",
    "                else:\n",
    "                    w = w - step\n",
    "                #print('opt_dict_last : ',np.linalg.norm(w_t), 'w :',w)\n",
    "            \n",
    "            norms = sorted([n for n in opt_dict])\n",
    "            #print('norms : ', norms)\n",
    "            opt_choice = opt_dict[norms[0]]\n",
    "            #print('opt_choice : ',opt_choice)\n",
    "            self.w = opt_choice[0]\n",
    "            self.b = opt_choice[1]\n",
    "            latest_optimum = opt_choice[0][0]+step*2\n",
    "            #print(opt_choice[0][0],step)\n",
    "            #print('latest_optimum : ', latest_optimum)\n",
    "    \n",
    "    def predict(self, features):\n",
    "        classification = np.sign(np.dot(np.array(features),self.w)+self.b)\n",
    "        if classification != 0 and self.visualization:\n",
    "            self.ax.scatter(features[0], features[1], s=100, marker='*', c=self.colors[classification])\n",
    "        return classification\n",
    "    \n",
    "    def visualize(self):\n",
    "        [[self.ax.scatter(x[0],x[1],s=100,c=self.colors[i]) for x in data[i]] for i in data] \n",
    "        \n",
    "        def hyperplane(x,w,b,v):\n",
    "            return (-w[0]*x-b+v) / w[1]\n",
    "        \n",
    "        datarange = [self.min_feature_value, self.max_feature_value]\n",
    "        hyp_x_min = datarange[0]\n",
    "        hyp_x_max = datarange[1]\n",
    "        #print('datarange', datarange)\n",
    "        #print('hyp_x', hyp_x_min, hyp_x_max)\n",
    "        \n",
    "        psv1 = hyperplane(hyp_x_min, self.w, self.b, 1)\n",
    "        psv2 = hyperplane(hyp_x_max, self.w, self.b, 1)\n",
    "        self.ax.plot([hyp_x_min,hyp_x_max],[psv1,psv2])\n",
    "        #print('psv : ',psv1,psv2)\n",
    "        \n",
    "        nsv1 = hyperplane(hyp_x_min, self.w, self.b, -1)\n",
    "        nsv2 = hyperplane(hyp_x_max, self.w, self.b, -1)\n",
    "        self.ax.plot([hyp_x_min,hyp_x_max],[nsv1,nsv2])\n",
    "        #print('nsv : ',nsv1,nsv2)\n",
    "        \n",
    "        db1 = hyperplane(hyp_x_min, self.w, self.b, 0)\n",
    "        db2 = hyperplane(hyp_x_max, self.w, self.b, 0)\n",
    "        self.ax.plot([hyp_x_min,hyp_x_max],[db1,db2])\n",
    "        #print('db : ',db1,db2)\n",
    "        \n",
    "        plt.show()"
   ]
  },
  {
   "cell_type": "code",
   "execution_count": 68,
   "metadata": {},
   "outputs": [],
   "source": [
    "data = {-1:np.array([[1,7],[2,8],[3,8],]), 1:np.array([[5,1],[6,-1],[7,3],])}\n",
    "predict_feature = [[0,10],[1,3],[3,4],[3,5],[5,5],[6,-5],[5,8]]"
   ]
  },
  {
   "cell_type": "code",
   "execution_count": 69,
   "metadata": {},
   "outputs": [
    {
     "name": "stdout",
     "output_type": "stream",
     "text": [
      "Optimized step\n",
      "Optimized step\n",
      "Optimized step\n"
     ]
    },
    {
     "data": {
      "image/png": "[encoded data removed]",
      "text/plain": [
       "<Figure size 432x288 with 1 Axes>"
      ]
     },
     "metadata": {
      "needs_background": "light"
     },
     "output_type": "display_data"
    }
   ],
   "source": [
    "svm = SVM()\n",
    "svm.fit(data)\n",
    "for p in predict_feature:\n",
    "    svm.predict(p)\n",
    "svm.visualize()"
   ]
  },
  {
   "cell_type": "code",
   "execution_count": null,
   "metadata": {},
   "outputs": [],
   "source": []
  }
 ],
 "metadata": {
  "kernelspec": {
   "display_name": "Python 3",
   "language": "python",
   "name": "python3"
  },
  "language_info": {
   "codemirror_mode": {
    "name": "ipython",
    "version": 3
   },
   "file_extension": ".py",
   "mimetype": "text/x-python",
   "name": "python",
   "nbconvert_exporter": "python",
   "pygments_lexer": "ipython3",
   "version": "3.7.1"
  }
 },
 "nbformat": 4,
 "nbformat_minor": 2
}
